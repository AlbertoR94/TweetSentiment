{
 "cells": [
  {
   "cell_type": "markdown",
   "id": "b66cf996-a5ae-4b86-9b3e-653a67fa3b3f",
   "metadata": {},
   "source": [
    "# Tweet Sentiment Classification"
   ]
  },
  {
   "cell_type": "markdown",
   "id": "2abec71a-e02f-44fc-ba76-333ae126a18d",
   "metadata": {},
   "source": [
    "In this project I present a simple model to classify tweets according to their sentiment: positive or negative.\n",
    "\n",
    "This notebook will serve as a laboratory to design, build, and test the system\n",
    "\n",
    "----------------------"
   ]
  },
  {
   "cell_type": "markdown",
   "id": "c6c35dff-54f9-4790-aec8-8283e026d960",
   "metadata": {},
   "source": [
    "To avoid repeated code and reduce errors, I will create some classes and functions to handle all stages, from data preprocessing to model evaluation. Later, we can reuse these objects in future projects by changing the corresponding implementation. The goal is to design a simple, reusable, standard interface for any NLP task.\n",
    "\n",
    "With this idea in mind, let's think carefully about the neccesary components that any NLP task requires. \n",
    "- A component to handle the cleaning and preprocessing of the input strings of text that we want to model.\n",
    "- A component to convert text into a suitable numerical representation for the task at hand. Also called word embeddings.\n",
    "  - This involves several intermediate steps such as generating a vocabulary\n",
    "  - Sometimes, we might want to learn these numerical representations from data or use pre-trained embeddings.\n",
    "- A component to construct a Dataset object that splits data into a train, validation, and test sets (handy while working with PyTorch library).\n",
    "- A component to generate mini-batches for model training.\n",
    "- A component to handle model training. Here we can incorporate a way to measure the progress. \n",
    "- A component for model evaluation. We also need to track performance metrics for model selection\n",
    "- A component to make predictions on new(unseen) data.\n",
    "\n",
    "Note that some of these components will function as subcomponents of other components. "
   ]
  },
  {
   "cell_type": "code",
   "execution_count": 1,
   "id": "6de4f554-8ecc-4775-9e8d-c4418ba95024",
   "metadata": {},
   "outputs": [],
   "source": [
    "import torch\n",
    "import torch.nn as nn\n",
    "import torch.nn.functional as F\n",
    "import torch.optim as optim\n",
    "from torch.utils.data import Dataset, DataLoader\n",
    "\n",
    "from sklearn.feature_extraction.text import TfidfVectorizer\n",
    "from sklearn.model_selection import train_test_split\n",
    "\n",
    "from collections import Counter\n",
    "from itertools import chain\n",
    "from argparse import Namespace\n",
    "\n",
    "import pandas as pd\n",
    "import numpy as np\n",
    "\n",
    "import nltk\n",
    "import os\n",
    "import re\n",
    "import string"
   ]
  },
  {
   "cell_type": "code",
   "execution_count": 2,
   "id": "8c75cd3d-a964-49c6-8353-47c8888dad65",
   "metadata": {},
   "outputs": [],
   "source": [
    "def set_seed(seed, cuda=False):\n",
    "    np.random.seed(seed)\n",
    "    torch.manual_seed(seed)\n",
    "    if cuda:\n",
    "        torch.cuda.manual_seed_all(seed)"
   ]
  },
  {
   "cell_type": "code",
   "execution_count": 11,
   "id": "ec370c44-50ff-4d5b-ac96-ebbabf4868d2",
   "metadata": {},
   "outputs": [],
   "source": [
    "seed=42\n",
    "#set_seed(seed)"
   ]
  },
  {
   "cell_type": "code",
   "execution_count": 3,
   "id": "12d63438-4fbe-4ea0-8232-82b078ad52e9",
   "metadata": {},
   "outputs": [],
   "source": [
    "# Let's take a look at the dataset\n",
    "train_df = pd.read_csv(\"data/train.csv\")\n",
    "test_df = pd.read_csv(\"data/test.csv\")"
   ]
  },
  {
   "cell_type": "code",
   "execution_count": 4,
   "id": "83d386c6-25e0-480c-99d4-d7f5e2d0f1e8",
   "metadata": {},
   "outputs": [
    {
     "data": {
      "text/html": [
       "<div>\n",
       "<style scoped>\n",
       "    .dataframe tbody tr th:only-of-type {\n",
       "        vertical-align: middle;\n",
       "    }\n",
       "\n",
       "    .dataframe tbody tr th {\n",
       "        vertical-align: top;\n",
       "    }\n",
       "\n",
       "    .dataframe thead th {\n",
       "        text-align: right;\n",
       "    }\n",
       "</style>\n",
       "<table border=\"1\" class=\"dataframe\">\n",
       "  <thead>\n",
       "    <tr style=\"text-align: right;\">\n",
       "      <th></th>\n",
       "      <th>id</th>\n",
       "      <th>keyword</th>\n",
       "      <th>location</th>\n",
       "      <th>text</th>\n",
       "      <th>target</th>\n",
       "    </tr>\n",
       "  </thead>\n",
       "  <tbody>\n",
       "    <tr>\n",
       "      <th>0</th>\n",
       "      <td>1</td>\n",
       "      <td>NaN</td>\n",
       "      <td>NaN</td>\n",
       "      <td>Our Deeds are the Reason of this #earthquake M...</td>\n",
       "      <td>1</td>\n",
       "    </tr>\n",
       "    <tr>\n",
       "      <th>1</th>\n",
       "      <td>4</td>\n",
       "      <td>NaN</td>\n",
       "      <td>NaN</td>\n",
       "      <td>Forest fire near La Ronge Sask. Canada</td>\n",
       "      <td>1</td>\n",
       "    </tr>\n",
       "    <tr>\n",
       "      <th>2</th>\n",
       "      <td>5</td>\n",
       "      <td>NaN</td>\n",
       "      <td>NaN</td>\n",
       "      <td>All residents asked to 'shelter in place' are ...</td>\n",
       "      <td>1</td>\n",
       "    </tr>\n",
       "    <tr>\n",
       "      <th>3</th>\n",
       "      <td>6</td>\n",
       "      <td>NaN</td>\n",
       "      <td>NaN</td>\n",
       "      <td>13,000 people receive #wildfires evacuation or...</td>\n",
       "      <td>1</td>\n",
       "    </tr>\n",
       "    <tr>\n",
       "      <th>4</th>\n",
       "      <td>7</td>\n",
       "      <td>NaN</td>\n",
       "      <td>NaN</td>\n",
       "      <td>Just got sent this photo from Ruby #Alaska as ...</td>\n",
       "      <td>1</td>\n",
       "    </tr>\n",
       "  </tbody>\n",
       "</table>\n",
       "</div>"
      ],
      "text/plain": [
       "   id keyword location                                               text  \\\n",
       "0   1     NaN      NaN  Our Deeds are the Reason of this #earthquake M...   \n",
       "1   4     NaN      NaN             Forest fire near La Ronge Sask. Canada   \n",
       "2   5     NaN      NaN  All residents asked to 'shelter in place' are ...   \n",
       "3   6     NaN      NaN  13,000 people receive #wildfires evacuation or...   \n",
       "4   7     NaN      NaN  Just got sent this photo from Ruby #Alaska as ...   \n",
       "\n",
       "   target  \n",
       "0       1  \n",
       "1       1  \n",
       "2       1  \n",
       "3       1  \n",
       "4       1  "
      ]
     },
     "execution_count": 4,
     "metadata": {},
     "output_type": "execute_result"
    }
   ],
   "source": [
    "train_df.head()"
   ]
  },
  {
   "cell_type": "code",
   "execution_count": 5,
   "id": "dd928b96-50b7-492a-95c3-915fa4d72b45",
   "metadata": {},
   "outputs": [
    {
     "name": "stdout",
     "output_type": "stream",
     "text": [
      "<class 'pandas.core.frame.DataFrame'>\n",
      "RangeIndex: 7613 entries, 0 to 7612\n",
      "Data columns (total 5 columns):\n",
      " #   Column    Non-Null Count  Dtype \n",
      "---  ------    --------------  ----- \n",
      " 0   id        7613 non-null   int64 \n",
      " 1   keyword   7552 non-null   object\n",
      " 2   location  5080 non-null   object\n",
      " 3   text      7613 non-null   object\n",
      " 4   target    7613 non-null   int64 \n",
      "dtypes: int64(2), object(3)\n",
      "memory usage: 297.5+ KB\n"
     ]
    }
   ],
   "source": [
    "train_df.info()"
   ]
  },
  {
   "cell_type": "markdown",
   "id": "e58f91b7-daff-4300-b3d7-8bcd129b5bc0",
   "metadata": {},
   "source": [
    "## Data preprocessing"
   ]
  },
  {
   "cell_type": "markdown",
   "id": "cce6296f-2fbb-4c70-bab6-dad922511e8e",
   "metadata": {},
   "source": [
    "In this project I will only work with the text and target column.\n",
    "In the first component I need to perform some preprocessing steps such as converting to lowercase and removing numbers . To do this, we can define some functions."
   ]
  },
  {
   "cell_type": "code",
   "execution_count": 6,
   "id": "28116394-3840-4da6-b93a-9d615347e45e",
   "metadata": {},
   "outputs": [],
   "source": [
    "def preprocess_string(text_string):\n",
    "    \"\"\"\n",
    "    Converts text string to lowercase and removes punctation.\n",
    "\n",
    "    Args:\n",
    "    text_string (str): text string to process.\n",
    "    \n",
    "    Returns:\n",
    "    text_string (str): processed text string.\n",
    "    \"\"\"\n",
    "    text_string = text_string.lower()\n",
    "    text_string = re.sub(r'[!\"#@$%&\\'()*+,-./:;<=>?\\[\\]^_`{|}~]', \n",
    "                         r\"\", text_string)\n",
    "    text_string = re.sub(r'\\b\\d+\\b', r\"\", text_string)\n",
    "    text_string = re.sub(r'  ', r\" \", text_string)\n",
    "    \n",
    "    return text_string"
   ]
  },
  {
   "cell_type": "code",
   "execution_count": 7,
   "id": "5cdb84d6-0f8f-4bf6-8bf9-3e55d6666ceb",
   "metadata": {},
   "outputs": [
    {
     "data": {
      "text/plain": [
       "'hello love the earth code 10v3 love earth'"
      ]
     },
     "execution_count": 7,
     "metadata": {},
     "output_type": "execute_result"
    }
   ],
   "source": [
    "# We remove # and @ symbols\n",
    "preprocess_string(\"Hello, love the earth!! Code 10v3 1234 #love @earth\")"
   ]
  },
  {
   "cell_type": "markdown",
   "id": "e18e9a8f-92fb-462e-8e32-b40c9d6d522d",
   "metadata": {},
   "source": [
    "We can use the .apply method to process each row in the dataset"
   ]
  },
  {
   "cell_type": "code",
   "execution_count": 8,
   "id": "078435d8-4ce8-441a-a7a3-244fc6d31e23",
   "metadata": {},
   "outputs": [],
   "source": [
    "train_df.text = train_df.text.apply(preprocess_string)\n",
    "test_df.text = test_df.text.apply(preprocess_string)"
   ]
  },
  {
   "cell_type": "code",
   "execution_count": 9,
   "id": "ef58adfd-52a9-4065-9893-09edc17c62b1",
   "metadata": {},
   "outputs": [
    {
     "data": {
      "text/plain": [
       "0                      just happened a terrible car crash\n",
       "1       heard about earthquake is different cities sta...\n",
       "2       there is a forest fire at spot pond geese are ...\n",
       "3                   apocalypse lighting spokane wildfires\n",
       "4              typhoon soudelor kills in china and taiwan\n",
       "                              ...                        \n",
       "3258    earthquake safety los angeles ûò safety faste...\n",
       "3259    storm in ri worse than last hurricane my citya...\n",
       "3260    green line derailment in chicago httptcoutbxlc...\n",
       "3261    meg issues hazardous weather outlook hwo httpt...\n",
       "3262    cityofcalgary has activated its municipal emer...\n",
       "Name: text, Length: 3263, dtype: object"
      ]
     },
     "execution_count": 9,
     "metadata": {},
     "output_type": "execute_result"
    }
   ],
   "source": [
    "test_df.text"
   ]
  },
  {
   "cell_type": "code",
   "execution_count": 12,
   "id": "9f505b62-35bd-4c2b-8f0b-5494e0da28d0",
   "metadata": {},
   "outputs": [],
   "source": [
    "# Split data into train and validation sets\n",
    "X_train, X_val, y_train, y_val= train_test_split(train_df.drop(['target'], axis=1), \n",
    "                                                 train_df.target, \n",
    "                                                 test_size=0.20, \n",
    "                                                 stratify=train_df.target, \n",
    "                                                 random_state=seed)"
   ]
  },
  {
   "cell_type": "code",
   "execution_count": 13,
   "id": "fb313c77-976d-4992-9373-7deb6d72bb26",
   "metadata": {},
   "outputs": [],
   "source": [
    "X_train = X_train.join(y_train)\n",
    "X_val = X_val.join(y_val)"
   ]
  },
  {
   "cell_type": "markdown",
   "id": "3490ff1d-d5e7-42b3-90dd-bc0be53ac5fb",
   "metadata": {},
   "source": [
    "## Classes and functions"
   ]
  },
  {
   "cell_type": "code",
   "execution_count": 14,
   "id": "b582919d-c00e-4aae-ae2a-376783fd4e18",
   "metadata": {},
   "outputs": [],
   "source": [
    "class Vocabulary():\n",
    "    def __init__(self, tokens):\n",
    "        self.tokens = tokens\n",
    "\n",
    "    @classmethod\n",
    "    def fromDataframe(cls, dataframe, cutoff=30):\n",
    "        counts = Counter([word for text in dataframe.text \\\n",
    "                          for word in text.split(\" \")])\n",
    "        tokens = [\"unk\"]\n",
    "        for token, count in counts.items():\n",
    "            if count >= cutoff:\n",
    "                tokens.append(token)\n",
    "\n",
    "        return cls(tokens)\n",
    "            \n",
    "\n",
    "class Vectorizer():\n",
    "    \"\"\"\n",
    "    Class to convert text strings into a numerical representation\n",
    "    \"\"\"\n",
    "    def __init__(self, vocabulary, dataframe):\n",
    "        self.vocabulary = vocabulary\n",
    "        \n",
    "        def my_tokenizer(text):\n",
    "            tokens = text.split(\" \")\n",
    "            tokens = [token if token in self.vocabulary.tokens else \"unk\" for token in tokens]\n",
    "            return tokens\n",
    "        \n",
    "        self.tfidf = TfidfVectorizer(tokenizer=my_tokenizer, \n",
    "                                     vocabulary=vocabulary.tokens, \n",
    "                                     token_pattern=None)\n",
    "        self.tfidf.fit(dataframe.text)\n",
    "    \n",
    "    def vectorize(self, row):\n",
    "        text = self.tfidf.transform([row]).toarray().reshape(-1)\n",
    "        return text\n",
    "        \n",
    "        \n",
    "    @classmethod\n",
    "    def fromDataframe(cls, dataframe, cutoff=30):\n",
    "        vocabulary = Vocabulary.fromDataframe(dataframe, cutoff=cutoff)\n",
    "        return cls(vocabulary, dataframe)\n",
    "\n",
    "\n",
    "class CustomDataset(Dataset):\n",
    "    \"\"\"\n",
    "    Class to handle vectorization and construction of the vocabulary\n",
    "    \"\"\"\n",
    "    def __init__(self, vectorizer, train_df, test_df):\n",
    "        \"\"\"\n",
    "        Args:\n",
    "        dataframe (pandas.Dataframe): dataframe containing data \n",
    "            (must include a \"text\" and \"target\" columns)\n",
    "        vectorizer (Vectorizer): a vectorizer instantiated from dataset\n",
    "        \"\"\"\n",
    "        self.split = \"train\"\n",
    "\n",
    "        self.train_df = train_df\n",
    "        self.test_df = test_df\n",
    "        self.set_split(self.split)\n",
    "        \n",
    "        self.vectorizer = vectorizer\n",
    "        self.vocabulary = vectorizer.vocabulary.tokens\n",
    "\n",
    "    @classmethod\n",
    "    def fromDataframe(cls, train_df, test_df, cutoff=30):\n",
    "        vectorizer = Vectorizer.fromDataframe(train_df, cutoff=cutoff)\n",
    "        return cls(vectorizer, train_df, test_df)\n",
    "\n",
    "    def __len__(self):\n",
    "        \"\"\"\n",
    "        Returns the number of sample in the dataset.\n",
    "        \"\"\"\n",
    "        return len(self.dataframe)\n",
    "\n",
    "    def __getitem__(self, idx):\n",
    "        \"\"\"\n",
    "        Loads and returns a sample from the dataset at the given index.\n",
    "        \"\"\"\n",
    "        text = self.dataframe.iloc[idx].text\n",
    "        text = self.vectorizer.vectorize(text)\n",
    "\n",
    "        label = self.dataframe.iloc[idx].target\n",
    "        return text, label\n",
    "\n",
    "    def getVectorizer(self):\n",
    "        return self.vectorizer\n",
    "\n",
    "    def getVocabulary(self):\n",
    "        return self.vocabulary\n",
    "\n",
    "    def set_split(self, split):\n",
    "        if split == \"train\":\n",
    "            self.dataframe = self.train_df\n",
    "        else:\n",
    "            self.dataframe = self.test_df"
   ]
  },
  {
   "cell_type": "code",
   "execution_count": 160,
   "id": "ce4b030c-847c-42b7-b3cd-a80e71ca1ca0",
   "metadata": {},
   "outputs": [],
   "source": [
    "class Classifier(nn.Module):\n",
    "    \"\"\"Classifier based on simple feed-forward neural network.\"\"\"\n",
    "    def __init__(self, n_features):\n",
    "        super(Classifier, self).__init__()\n",
    "        self.features = nn.Sequential(\n",
    "            nn.Linear(in_features=n_features, out_features=32),\n",
    "            nn.ReLU(),\n",
    "            nn.Linear(in_features=32, out_features=1),\n",
    "        )\n",
    "        \n",
    "    def forward(self, x):\n",
    "        x = self.features(x).squeeze()\n",
    "        return x"
   ]
  },
  {
   "cell_type": "code",
   "execution_count": 56,
   "id": "6d137112-babe-4321-b179-fa5fd24a4583",
   "metadata": {},
   "outputs": [],
   "source": [
    "def train(model, dataloader, loss_func, optimizer, args, train_state):\n",
    "    \"\"\"\n",
    "    Runs a traning epoch\n",
    "    Args:\n",
    "    \n",
    "    \"\"\"\n",
    "\n",
    "    dataset_size = len(dataloader.dataset)\n",
    "    num_batches = len(dataloader)\n",
    "    # set classifier to train mode\n",
    "    model.train()\n",
    "\n",
    "    # set loss and accuracy metrics to 0\n",
    "    running_loss = 0\n",
    "    running_acc = 0\n",
    "\n",
    "    for batch, (X, y) in enumerate(dataloader):\n",
    "\n",
    "        X = X.to(args.device)\n",
    "        y = y.to(args.device)\n",
    "        #------------------\n",
    "        # set gradient to zero\n",
    "        optimizer.zero_grad()\n",
    "    \n",
    "        # compute model predictions and loss\n",
    "        y_pred = classifier(X.float())\n",
    "        loss = loss_func(y_pred, y.float())\n",
    "\n",
    "        # Apply backpropagation\n",
    "        loss.backward()\n",
    "\n",
    "        # update model parameters\n",
    "        optimizer.step()\n",
    "\n",
    "        # statistics\n",
    "        running_loss += loss.item() * X.size(0)\n",
    "        running_acc += compute_accuracy(y_pred, y)\n",
    "\n",
    "        print_info(loss, batch, X, dataset_size)\n",
    "        \n",
    "    print(f\"Train Error: \\n Accuracy: {(100*running_acc/dataset_size):>0.1f}%\")\n",
    "    train_state['train_loss'].append(running_loss / num_batches)\n",
    "    train_state['train_acc'].append(running_acc / dataset_size)\n",
    "        \n",
    "\n",
    "def validation(model, dataloader, loss_func, optimizer, args, train_state):\n",
    "    \"\"\"\n",
    "    Runs a traning epoch\n",
    "    Args:\n",
    "    \n",
    "    \"\"\"\n",
    "\n",
    "    dataset_size = len(dataloader.dataset)\n",
    "    num_batches = len(dataloader)\n",
    "    # set classifier to train mode\n",
    "    model.eval()\n",
    "\n",
    "    # set loss and accuracy metrics to 0\n",
    "    running_loss = 0\n",
    "    running_acc = 0\n",
    "\n",
    "    with torch.no_grad():\n",
    "        for X, y in dataloader:\n",
    "    \n",
    "            X = X.to(args.device)\n",
    "            y = y.to(args.device)\n",
    "            #------------------\n",
    "        \n",
    "            # compute model predictions and loss\n",
    "            y_pred = classifier(X.float())\n",
    "            loss = loss_func(y_pred, y.float())\n",
    "\n",
    "            # statistics\n",
    "            running_loss += loss.item() * X.size(0)\n",
    "            running_acc += compute_accuracy(y_pred, y)\n",
    "        \n",
    "    print(f\"Test Error: \\n Accuracy: {(100*running_acc/dataset_size):>0.1f}%, Avg loss: {running_loss / num_batches:>8f} \\n\")    \n",
    "\n",
    "    train_state['val_loss'].append(running_loss / num_batches)\n",
    "    train_state['val_acc'].append(running_acc / dataset_size)"
   ]
  },
  {
   "cell_type": "code",
   "execution_count": 161,
   "id": "5cf06287-1f8b-45c9-b089-d4031392ad10",
   "metadata": {},
   "outputs": [],
   "source": [
    "args = Namespace(\n",
    "    # Data info\n",
    "    cutoff = 10,\n",
    "    vocab_size = 0,\n",
    "    # Model hyperparameters\n",
    "    learning_rate = 0.001,\n",
    "    weight_decay=0.001,\n",
    "    batchsize = 32,\n",
    "    epochs = 30,\n",
    "    early_stopping_criteria = 10,\n",
    "    # runtime \n",
    "    device = 'cpu',\n",
    "    model_state_file = 'model.pth',\n",
    "    min_val_loss = float('inf')\n",
    ")\n",
    "\n",
    "def build_state(args):\n",
    "    \"\"\"\n",
    "    Returns dictionary \n",
    "    \"\"\"\n",
    "    state = {'current_ epoch':0,\n",
    "             'stop_early': False,\n",
    "             'early_stopping_step':0,\n",
    "             'current_min_val_loss': args.min_val_loss,\n",
    "             'learning_rate': args.learning_rate,\n",
    "             'train_loss': [],\n",
    "             'train_acc': [],\n",
    "             'val_loss':[],\n",
    "             'val_acc':[],\n",
    "             'test_loss':-1,\n",
    "             'test_acc':-1,\n",
    "             'model_filename':args.model_state_file\n",
    "            }\n",
    "    return state\n",
    "\n",
    "def update_state(state, model, args, tolerance=0):\n",
    "    \"\"\"\n",
    "    Changes train state according to validation loss values\n",
    "\n",
    "    Args:\n",
    "        state: train state dictionary\n",
    "        model: model that is being trained\n",
    "        args: namespace with important variables\n",
    "    \"\"\"\n",
    "    if state['current_epoch'] == 0:\n",
    "        torch.save(model.state_dict(), state['model_filename'])\n",
    "        state['stop_early'] = False\n",
    "\n",
    "    elif state['current_epoch'] >= 1:\n",
    "        current_loss =  state['val_loss'][-1]\n",
    "\n",
    "        if current_loss < state['current_min_val_loss']:\n",
    "            state['current_min_val_loss'] = current_loss\n",
    "            state['early_stopping_step'] = 0\n",
    "            torch.save(model.state_dict(), state['model_filename'])\n",
    "            \n",
    "        elif current_loss >= state['current_min_val_loss'] + tolerance:\n",
    "            state['early_stopping_step'] += 1\n",
    "            \n",
    "        \n",
    "    return state\n",
    "\n",
    "def compute_accuracy(y_pred, y_true, thresh=0.5):\n",
    "    \"\"\"\n",
    "    Computes accuracy from predicted and true labels\n",
    "    \"\"\"\n",
    "    y_true = y_true.cpu()\n",
    "    y_pred = (torch.sigmoid(y_pred)> thresh).cpu().long()\n",
    "    n_correct =  torch.eq(y_pred, y_true).sum().item()\n",
    "    return n_correct\n",
    "\n",
    "def print_info(loss, batch, X, size):\n",
    "    if batch % 10 == 0:\n",
    "        current = (batch + 1) * len(X)\n",
    "        print(f\"loss: {loss.item():>7f}  [{current:>5d}/{size:>5d}]\")"
   ]
  },
  {
   "cell_type": "markdown",
   "id": "b5da08ce-51c2-4651-962d-01b2c55bb8c1",
   "metadata": {},
   "source": [
    "## Training"
   ]
  },
  {
   "cell_type": "code",
   "execution_count": 162,
   "id": "9db1bcc7-0427-45aa-9c34-8a433580651e",
   "metadata": {},
   "outputs": [],
   "source": [
    "# Instantiate dataset and vocabulary\n",
    "reviewDataset = CustomDataset.fromDataframe(X_train, X_val, cutoff=args.cutoff)\n",
    "vocabulary = reviewDataset.getVocabulary()\n",
    "\n",
    "args.vocab_size = len(vocabulary) \n",
    "\n",
    "# Instantiate classfier\n",
    "classifier = Classifier(n_features=args.vocab_size)\n",
    "\n",
    "#Instantiate loss and optimizer\n",
    "loss_func = nn.BCEWithLogitsLoss()\n",
    "optimizer = optim.Adam(classifier.parameters(), lr=args.learning_rate, weight_decay=args.weight_decay)\n",
    "\n",
    "# Optional: Instantiate learning rate scheduler\n",
    "scheduler = optim.lr_scheduler.ReduceLROnPlateau(optimizer=optimizer,\n",
    "                                                 mode='min', factor=0.5,\n",
    "                                                 patience=1)\n",
    "\n",
    "# Create state to keep track of training steps\n",
    "\n",
    "train_state = build_state(args)"
   ]
  },
  {
   "cell_type": "code",
   "execution_count": 163,
   "id": "49fa1c7e-0753-4930-8a33-18a73519bb78",
   "metadata": {},
   "outputs": [
    {
     "name": "stdout",
     "output_type": "stream",
     "text": [
      "loss: 0.683199  [   32/ 6090]\n",
      "loss: 0.677202  [  352/ 6090]\n",
      "loss: 0.682267  [  672/ 6090]\n",
      "loss: 0.675700  [  992/ 6090]\n",
      "loss: 0.681469  [ 1312/ 6090]\n",
      "loss: 0.707234  [ 1632/ 6090]\n",
      "loss: 0.680684  [ 1952/ 6090]\n",
      "loss: 0.635997  [ 2272/ 6090]\n",
      "loss: 0.654440  [ 2592/ 6090]\n",
      "loss: 0.673907  [ 2912/ 6090]\n",
      "loss: 0.603107  [ 3232/ 6090]\n",
      "loss: 0.619736  [ 3552/ 6090]\n",
      "loss: 0.642313  [ 3872/ 6090]\n",
      "loss: 0.602493  [ 4192/ 6090]\n",
      "loss: 0.622311  [ 4512/ 6090]\n",
      "loss: 0.674836  [ 4832/ 6090]\n",
      "loss: 0.579679  [ 5152/ 6090]\n",
      "loss: 0.626063  [ 5472/ 6090]\n",
      "loss: 0.600114  [ 5792/ 6090]\n",
      "loss: 0.538271  [ 1910/ 6090]\n",
      "Train Error: \n",
      " Accuracy: 64.4%\n",
      "Test Error: \n",
      " Accuracy: 77.7%, Avg loss: 18.017046 \n",
      "\n",
      "loss: 0.529611  [   32/ 6090]\n",
      "loss: 0.553054  [  352/ 6090]\n",
      "loss: 0.537520  [  672/ 6090]\n",
      "loss: 0.495179  [  992/ 6090]\n",
      "loss: 0.517222  [ 1312/ 6090]\n",
      "loss: 0.539283  [ 1632/ 6090]\n",
      "loss: 0.483754  [ 1952/ 6090]\n",
      "loss: 0.545921  [ 2272/ 6090]\n",
      "loss: 0.563728  [ 2592/ 6090]\n",
      "loss: 0.506735  [ 2912/ 6090]\n",
      "loss: 0.561398  [ 3232/ 6090]\n",
      "loss: 0.543560  [ 3552/ 6090]\n",
      "loss: 0.485401  [ 3872/ 6090]\n",
      "loss: 0.501318  [ 4192/ 6090]\n",
      "loss: 0.469241  [ 4512/ 6090]\n",
      "loss: 0.518682  [ 4832/ 6090]\n",
      "loss: 0.506176  [ 5152/ 6090]\n",
      "loss: 0.541599  [ 5472/ 6090]\n",
      "loss: 0.390335  [ 5792/ 6090]\n",
      "loss: 0.372749  [ 1910/ 6090]\n",
      "Train Error: \n",
      " Accuracy: 80.2%\n",
      "Test Error: \n",
      " Accuracy: 79.8%, Avg loss: 15.152463 \n",
      "\n",
      "loss: 0.470556  [   32/ 6090]\n",
      "loss: 0.485242  [  352/ 6090]\n",
      "loss: 0.447136  [  672/ 6090]\n",
      "loss: 0.395712  [  992/ 6090]\n",
      "loss: 0.396591  [ 1312/ 6090]\n",
      "loss: 0.445844  [ 1632/ 6090]\n",
      "loss: 0.435648  [ 1952/ 6090]\n",
      "loss: 0.465966  [ 2272/ 6090]\n",
      "loss: 0.432339  [ 2592/ 6090]\n",
      "loss: 0.418500  [ 2912/ 6090]\n",
      "loss: 0.527702  [ 3232/ 6090]\n",
      "loss: 0.537539  [ 3552/ 6090]\n",
      "loss: 0.429218  [ 3872/ 6090]\n",
      "loss: 0.451219  [ 4192/ 6090]\n",
      "loss: 0.444994  [ 4512/ 6090]\n",
      "loss: 0.413680  [ 4832/ 6090]\n",
      "loss: 0.362988  [ 5152/ 6090]\n",
      "loss: 0.461249  [ 5472/ 6090]\n",
      "loss: 0.351833  [ 5792/ 6090]\n",
      "loss: 0.339757  [ 1910/ 6090]\n",
      "Train Error: \n",
      " Accuracy: 81.5%\n",
      "Test Error: \n",
      " Accuracy: 80.6%, Avg loss: 14.521683 \n",
      "\n",
      "loss: 0.377532  [   32/ 6090]\n",
      "loss: 0.389988  [  352/ 6090]\n",
      "loss: 0.509053  [  672/ 6090]\n",
      "loss: 0.408053  [  992/ 6090]\n",
      "loss: 0.306296  [ 1312/ 6090]\n",
      "loss: 0.363295  [ 1632/ 6090]\n",
      "loss: 0.474743  [ 1952/ 6090]\n",
      "loss: 0.543741  [ 2272/ 6090]\n",
      "loss: 0.467647  [ 2592/ 6090]\n",
      "loss: 0.505107  [ 2912/ 6090]\n",
      "loss: 0.515947  [ 3232/ 6090]\n",
      "loss: 0.270657  [ 3552/ 6090]\n",
      "loss: 0.532537  [ 3872/ 6090]\n",
      "loss: 0.458334  [ 4192/ 6090]\n",
      "loss: 0.428983  [ 4512/ 6090]\n",
      "loss: 0.384407  [ 4832/ 6090]\n",
      "loss: 0.524322  [ 5152/ 6090]\n",
      "loss: 0.469501  [ 5472/ 6090]\n",
      "loss: 0.394783  [ 5792/ 6090]\n",
      "loss: 0.586161  [ 1910/ 6090]\n",
      "Train Error: \n",
      " Accuracy: 82.3%\n",
      "Test Error: \n",
      " Accuracy: 80.3%, Avg loss: 14.349290 \n",
      "\n",
      "loss: 0.322553  [   32/ 6090]\n",
      "loss: 0.575061  [  352/ 6090]\n",
      "loss: 0.386643  [  672/ 6090]\n",
      "loss: 0.446517  [  992/ 6090]\n",
      "loss: 0.369097  [ 1312/ 6090]\n",
      "loss: 0.394140  [ 1632/ 6090]\n",
      "loss: 0.321659  [ 1952/ 6090]\n",
      "loss: 0.299172  [ 2272/ 6090]\n",
      "loss: 0.463238  [ 2592/ 6090]\n",
      "loss: 0.504759  [ 2912/ 6090]\n",
      "loss: 0.535502  [ 3232/ 6090]\n",
      "loss: 0.445966  [ 3552/ 6090]\n",
      "loss: 0.404884  [ 3872/ 6090]\n",
      "loss: 0.358204  [ 4192/ 6090]\n",
      "loss: 0.427476  [ 4512/ 6090]\n",
      "loss: 0.428865  [ 4832/ 6090]\n",
      "loss: 0.645839  [ 5152/ 6090]\n",
      "loss: 0.414181  [ 5472/ 6090]\n",
      "loss: 0.450897  [ 5792/ 6090]\n",
      "loss: 0.510111  [ 1910/ 6090]\n",
      "Train Error: \n",
      " Accuracy: 82.4%\n",
      "Test Error: \n",
      " Accuracy: 79.8%, Avg loss: 14.302845 \n",
      "\n",
      "loss: 0.317604  [   32/ 6090]\n",
      "loss: 0.432214  [  352/ 6090]\n",
      "loss: 0.384324  [  672/ 6090]\n",
      "loss: 0.478647  [  992/ 6090]\n",
      "loss: 0.425823  [ 1312/ 6090]\n",
      "loss: 0.609708  [ 1632/ 6090]\n",
      "loss: 0.300630  [ 1952/ 6090]\n",
      "loss: 0.444465  [ 2272/ 6090]\n",
      "loss: 0.281715  [ 2592/ 6090]\n",
      "loss: 0.395735  [ 2912/ 6090]\n",
      "loss: 0.450292  [ 3232/ 6090]\n",
      "loss: 0.411924  [ 3552/ 6090]\n",
      "loss: 0.429502  [ 3872/ 6090]\n",
      "loss: 0.427182  [ 4192/ 6090]\n",
      "loss: 0.558049  [ 4512/ 6090]\n",
      "loss: 0.518035  [ 4832/ 6090]\n",
      "loss: 0.322426  [ 5152/ 6090]\n",
      "loss: 0.418142  [ 5472/ 6090]\n",
      "loss: 0.346015  [ 5792/ 6090]\n",
      "loss: 0.289466  [ 1910/ 6090]\n",
      "Train Error: \n",
      " Accuracy: 82.7%\n",
      "Test Error: \n",
      " Accuracy: 80.4%, Avg loss: 14.233893 \n",
      "\n",
      "loss: 0.336168  [   32/ 6090]\n",
      "loss: 0.294583  [  352/ 6090]\n",
      "loss: 0.312609  [  672/ 6090]\n",
      "loss: 0.328279  [  992/ 6090]\n",
      "loss: 0.317712  [ 1312/ 6090]\n",
      "loss: 0.454851  [ 1632/ 6090]\n",
      "loss: 0.287577  [ 1952/ 6090]\n",
      "loss: 0.484970  [ 2272/ 6090]\n",
      "loss: 0.398661  [ 2592/ 6090]\n",
      "loss: 0.230205  [ 2912/ 6090]\n",
      "loss: 0.357633  [ 3232/ 6090]\n",
      "loss: 0.416066  [ 3552/ 6090]\n",
      "loss: 0.572246  [ 3872/ 6090]\n",
      "loss: 0.463553  [ 4192/ 6090]\n",
      "loss: 0.307919  [ 4512/ 6090]\n",
      "loss: 0.433043  [ 4832/ 6090]\n",
      "loss: 0.454120  [ 5152/ 6090]\n",
      "loss: 0.332727  [ 5472/ 6090]\n",
      "loss: 0.547310  [ 5792/ 6090]\n",
      "loss: 0.475123  [ 1910/ 6090]\n",
      "Train Error: \n",
      " Accuracy: 83.3%\n",
      "Test Error: \n",
      " Accuracy: 80.3%, Avg loss: 14.357519 \n",
      "\n",
      "loss: 0.483114  [   32/ 6090]\n",
      "loss: 0.286562  [  352/ 6090]\n",
      "loss: 0.478853  [  672/ 6090]\n",
      "loss: 0.314082  [  992/ 6090]\n",
      "loss: 0.339105  [ 1312/ 6090]\n",
      "loss: 0.305996  [ 1632/ 6090]\n",
      "loss: 0.536352  [ 1952/ 6090]\n",
      "loss: 0.365076  [ 2272/ 6090]\n",
      "loss: 0.462149  [ 2592/ 6090]\n",
      "loss: 0.243078  [ 2912/ 6090]\n",
      "loss: 0.225002  [ 3232/ 6090]\n",
      "loss: 0.347615  [ 3552/ 6090]\n",
      "loss: 0.409431  [ 3872/ 6090]\n",
      "loss: 0.315882  [ 4192/ 6090]\n",
      "loss: 0.377795  [ 4512/ 6090]\n",
      "loss: 0.260653  [ 4832/ 6090]\n",
      "loss: 0.497368  [ 5152/ 6090]\n",
      "loss: 0.308181  [ 5472/ 6090]\n",
      "loss: 0.670896  [ 5792/ 6090]\n",
      "loss: 0.199926  [ 1910/ 6090]\n",
      "Train Error: \n",
      " Accuracy: 83.5%\n",
      "Test Error: \n",
      " Accuracy: 80.4%, Avg loss: 14.311313 \n",
      "\n",
      "loss: 0.410547  [   32/ 6090]\n",
      "loss: 0.319725  [  352/ 6090]\n",
      "loss: 0.354678  [  672/ 6090]\n",
      "loss: 0.310202  [  992/ 6090]\n",
      "loss: 0.407139  [ 1312/ 6090]\n",
      "loss: 0.373755  [ 1632/ 6090]\n",
      "loss: 0.274027  [ 1952/ 6090]\n",
      "loss: 0.232558  [ 2272/ 6090]\n",
      "loss: 0.347813  [ 2592/ 6090]\n",
      "loss: 0.442865  [ 2912/ 6090]\n",
      "loss: 0.414766  [ 3232/ 6090]\n",
      "loss: 0.416630  [ 3552/ 6090]\n",
      "loss: 0.444842  [ 3872/ 6090]\n",
      "loss: 0.393656  [ 4192/ 6090]\n",
      "loss: 0.338586  [ 4512/ 6090]\n",
      "loss: 0.388606  [ 4832/ 6090]\n",
      "loss: 0.374220  [ 5152/ 6090]\n",
      "loss: 0.355568  [ 5472/ 6090]\n",
      "loss: 0.438550  [ 5792/ 6090]\n",
      "loss: 0.186109  [ 1910/ 6090]\n",
      "Train Error: \n",
      " Accuracy: 84.3%\n",
      "Test Error: \n",
      " Accuracy: 80.5%, Avg loss: 14.300179 \n",
      "\n",
      "loss: 0.375459  [   32/ 6090]\n",
      "loss: 0.312111  [  352/ 6090]\n",
      "loss: 0.434958  [  672/ 6090]\n",
      "loss: 0.402812  [  992/ 6090]\n",
      "loss: 0.350800  [ 1312/ 6090]\n",
      "loss: 0.366160  [ 1632/ 6090]\n",
      "loss: 0.382476  [ 1952/ 6090]\n",
      "loss: 0.299556  [ 2272/ 6090]\n",
      "loss: 0.459828  [ 2592/ 6090]\n",
      "loss: 0.477494  [ 2912/ 6090]\n",
      "loss: 0.314706  [ 3232/ 6090]\n",
      "loss: 0.306744  [ 3552/ 6090]\n",
      "loss: 0.292006  [ 3872/ 6090]\n",
      "loss: 0.306213  [ 4192/ 6090]\n",
      "loss: 0.376099  [ 4512/ 6090]\n",
      "loss: 0.335313  [ 4832/ 6090]\n",
      "loss: 0.307227  [ 5152/ 6090]\n",
      "loss: 0.395956  [ 5472/ 6090]\n",
      "loss: 0.271205  [ 5792/ 6090]\n",
      "loss: 0.266528  [ 1910/ 6090]\n",
      "Train Error: \n",
      " Accuracy: 84.5%\n",
      "Test Error: \n",
      " Accuracy: 80.0%, Avg loss: 14.358358 \n",
      "\n",
      "loss: 0.355778  [   32/ 6090]\n",
      "loss: 0.269061  [  352/ 6090]\n",
      "loss: 0.294571  [  672/ 6090]\n",
      "loss: 0.342230  [  992/ 6090]\n",
      "loss: 0.269717  [ 1312/ 6090]\n",
      "loss: 0.287062  [ 1632/ 6090]\n",
      "loss: 0.371382  [ 1952/ 6090]\n",
      "loss: 0.332032  [ 2272/ 6090]\n",
      "loss: 0.305994  [ 2592/ 6090]\n",
      "loss: 0.390311  [ 2912/ 6090]\n",
      "loss: 0.512783  [ 3232/ 6090]\n",
      "loss: 0.342083  [ 3552/ 6090]\n",
      "loss: 0.417552  [ 3872/ 6090]\n",
      "loss: 0.199845  [ 4192/ 6090]\n",
      "loss: 0.333508  [ 4512/ 6090]\n",
      "loss: 0.496754  [ 4832/ 6090]\n",
      "loss: 0.351184  [ 5152/ 6090]\n",
      "loss: 0.265581  [ 5472/ 6090]\n",
      "loss: 0.337865  [ 5792/ 6090]\n",
      "loss: 0.222238  [ 1910/ 6090]\n",
      "Train Error: \n",
      " Accuracy: 84.9%\n",
      "Test Error: \n",
      " Accuracy: 80.6%, Avg loss: 14.325872 \n",
      "\n",
      "loss: 0.415166  [   32/ 6090]\n",
      "loss: 0.381054  [  352/ 6090]\n",
      "loss: 0.341284  [  672/ 6090]\n",
      "loss: 0.387002  [  992/ 6090]\n",
      "loss: 0.418331  [ 1312/ 6090]\n",
      "loss: 0.238878  [ 1632/ 6090]\n",
      "loss: 0.369528  [ 1952/ 6090]\n",
      "loss: 0.445306  [ 2272/ 6090]\n",
      "loss: 0.167062  [ 2592/ 6090]\n",
      "loss: 0.469343  [ 2912/ 6090]\n",
      "loss: 0.396605  [ 3232/ 6090]\n",
      "loss: 0.558291  [ 3552/ 6090]\n",
      "loss: 0.360512  [ 3872/ 6090]\n",
      "loss: 0.380586  [ 4192/ 6090]\n",
      "loss: 0.343335  [ 4512/ 6090]\n",
      "loss: 0.303747  [ 4832/ 6090]\n",
      "loss: 0.450260  [ 5152/ 6090]\n",
      "loss: 0.301370  [ 5472/ 6090]\n",
      "loss: 0.370544  [ 5792/ 6090]\n",
      "loss: 0.331619  [ 1910/ 6090]\n",
      "Train Error: \n",
      " Accuracy: 84.9%\n",
      "Test Error: \n",
      " Accuracy: 80.6%, Avg loss: 14.332927 \n",
      "\n",
      "loss: 0.386643  [   32/ 6090]\n",
      "loss: 0.339629  [  352/ 6090]\n",
      "loss: 0.344709  [  672/ 6090]\n",
      "loss: 0.285835  [  992/ 6090]\n",
      "loss: 0.310597  [ 1312/ 6090]\n",
      "loss: 0.290011  [ 1632/ 6090]\n",
      "loss: 0.385232  [ 1952/ 6090]\n",
      "loss: 0.409155  [ 2272/ 6090]\n",
      "loss: 0.224272  [ 2592/ 6090]\n",
      "loss: 0.314066  [ 2912/ 6090]\n",
      "loss: 0.351406  [ 3232/ 6090]\n",
      "loss: 0.507827  [ 3552/ 6090]\n",
      "loss: 0.558095  [ 3872/ 6090]\n",
      "loss: 0.433844  [ 4192/ 6090]\n",
      "loss: 0.329651  [ 4512/ 6090]\n",
      "loss: 0.413710  [ 4832/ 6090]\n",
      "loss: 0.294426  [ 5152/ 6090]\n",
      "loss: 0.305235  [ 5472/ 6090]\n",
      "loss: 0.326490  [ 5792/ 6090]\n",
      "loss: 0.220342  [ 1910/ 6090]\n",
      "Train Error: \n",
      " Accuracy: 85.2%\n",
      "Test Error: \n",
      " Accuracy: 80.4%, Avg loss: 14.347433 \n",
      "\n",
      "loss: 0.219729  [   32/ 6090]\n",
      "loss: 0.429188  [  352/ 6090]\n",
      "loss: 0.343562  [  672/ 6090]\n",
      "loss: 0.465602  [  992/ 6090]\n",
      "loss: 0.300295  [ 1312/ 6090]\n",
      "loss: 0.410444  [ 1632/ 6090]\n",
      "loss: 0.268988  [ 1952/ 6090]\n",
      "loss: 0.338479  [ 2272/ 6090]\n",
      "loss: 0.411967  [ 2592/ 6090]\n",
      "loss: 0.489959  [ 2912/ 6090]\n",
      "loss: 0.450563  [ 3232/ 6090]\n",
      "loss: 0.343834  [ 3552/ 6090]\n",
      "loss: 0.282358  [ 3872/ 6090]\n",
      "loss: 0.341426  [ 4192/ 6090]\n",
      "loss: 0.246966  [ 4512/ 6090]\n",
      "loss: 0.363601  [ 4832/ 6090]\n",
      "loss: 0.422100  [ 5152/ 6090]\n",
      "loss: 0.454178  [ 5472/ 6090]\n",
      "loss: 0.286459  [ 5792/ 6090]\n",
      "loss: 0.293719  [ 1910/ 6090]\n",
      "Train Error: \n",
      " Accuracy: 85.2%\n",
      "Test Error: \n",
      " Accuracy: 80.3%, Avg loss: 14.352621 \n",
      "\n",
      "loss: 0.340259  [   32/ 6090]\n",
      "loss: 0.366727  [  352/ 6090]\n",
      "loss: 0.568689  [  672/ 6090]\n",
      "loss: 0.342497  [  992/ 6090]\n",
      "loss: 0.283058  [ 1312/ 6090]\n",
      "loss: 0.348572  [ 1632/ 6090]\n",
      "loss: 0.267399  [ 1952/ 6090]\n",
      "loss: 0.300238  [ 2272/ 6090]\n",
      "loss: 0.401615  [ 2592/ 6090]\n",
      "loss: 0.401760  [ 2912/ 6090]\n",
      "loss: 0.462922  [ 3232/ 6090]\n",
      "loss: 0.347539  [ 3552/ 6090]\n",
      "loss: 0.391863  [ 3872/ 6090]\n",
      "loss: 0.345386  [ 4192/ 6090]\n",
      "loss: 0.265689  [ 4512/ 6090]\n",
      "loss: 0.347702  [ 4832/ 6090]\n",
      "loss: 0.439258  [ 5152/ 6090]\n",
      "loss: 0.247912  [ 5472/ 6090]\n",
      "loss: 0.400672  [ 5792/ 6090]\n",
      "loss: 0.415522  [ 1910/ 6090]\n",
      "Train Error: \n",
      " Accuracy: 85.4%\n",
      "Test Error: \n",
      " Accuracy: 80.1%, Avg loss: 14.367056 \n",
      "\n",
      "loss: 0.336605  [   32/ 6090]\n",
      "loss: 0.344668  [  352/ 6090]\n",
      "loss: 0.345046  [  672/ 6090]\n",
      "loss: 0.326301  [  992/ 6090]\n",
      "loss: 0.385594  [ 1312/ 6090]\n",
      "loss: 0.343501  [ 1632/ 6090]\n",
      "loss: 0.289052  [ 1952/ 6090]\n",
      "loss: 0.313488  [ 2272/ 6090]\n",
      "loss: 0.375825  [ 2592/ 6090]\n",
      "loss: 0.404591  [ 2912/ 6090]\n",
      "loss: 0.454598  [ 3232/ 6090]\n",
      "loss: 0.368045  [ 3552/ 6090]\n",
      "loss: 0.356222  [ 3872/ 6090]\n",
      "loss: 0.480987  [ 4192/ 6090]\n",
      "loss: 0.350134  [ 4512/ 6090]\n",
      "loss: 0.379877  [ 4832/ 6090]\n",
      "loss: 0.443678  [ 5152/ 6090]\n",
      "loss: 0.327207  [ 5472/ 6090]\n",
      "loss: 0.441295  [ 5792/ 6090]\n",
      "loss: 0.592964  [ 1910/ 6090]\n",
      "Train Error: \n",
      " Accuracy: 85.4%\n",
      "Test Error: \n",
      " Accuracy: 80.1%, Avg loss: 14.370686 \n",
      "\n",
      "Early Stopping Criteria Satisfied\n"
     ]
    }
   ],
   "source": [
    "# Model training\n",
    "args.epochs = 60\n",
    "\n",
    "for epoch in range(args.epochs):\n",
    "    train_state['current_epoch'] = epoch\n",
    "    # set classifier to train mode\n",
    "    reviewDataset.set_split(\"train\")\n",
    "    dataloader = DataLoader(reviewDataset, batch_size=args.batchsize, shuffle=True)\n",
    "    train(classifier, dataloader, loss_func, optimizer, args, train_state)\n",
    "\n",
    "    # set classifier to eval mode\n",
    "    reviewDataset.set_split(\"eval\")\n",
    "    dataloader = DataLoader(reviewDataset, batch_size=args.batchsize, shuffle=True)\n",
    "    validation(classifier, dataloader, loss_func, optimizer, args, train_state)\n",
    "\n",
    "    train_state = update_state(train_state, classifier, args)\n",
    "    \n",
    "    scheduler.step(train_state['val_loss'][-1])\n",
    "\n",
    "    if train_state['early_stopping_step'] >= args.early_stopping_criteria:\n",
    "        print(\"Early Stopping Criteria Satisfied\")\n",
    "        break"
   ]
  },
  {
   "cell_type": "markdown",
   "id": "dab72a87-ed92-43a9-832e-dfc2c9e33862",
   "metadata": {},
   "source": [
    "## Metrics plots"
   ]
  },
  {
   "cell_type": "code",
   "execution_count": 137,
   "id": "a298c3d6-4211-423e-9d65-47235680bcdf",
   "metadata": {},
   "outputs": [],
   "source": [
    "import matplotlib.pyplot as plt"
   ]
  },
  {
   "cell_type": "code",
   "execution_count": 164,
   "id": "5b90b7bf-f842-4405-b887-929dbe49e23d",
   "metadata": {},
   "outputs": [
    {
     "data": {
      "image/png": "[encoded data removed]",
      "text/plain": [
       "<Figure size 792x360 with 2 Axes>"
      ]
     },
     "metadata": {
      "needs_background": "light"
     },
     "output_type": "display_data"
    }
   ],
   "source": [
    "fig, ax = plt.subplots(1,2,figsize=(11,5))\n",
    "\n",
    "ax[0].plot(train_state['train_loss'], label='train')\n",
    "ax[0].plot(train_state['val_loss'], label='val')\n",
    "\n",
    "ax[1].plot(train_state['train_acc'], label='train')\n",
    "ax[1].plot(train_state['val_acc'], label='val')\n",
    "\n",
    "plt.legend(fontsize=14, frameon=False)\n",
    "\n",
    "plt.tight_layout()\n",
    "plt.show()"
   ]
  },
  {
   "cell_type": "markdown",
   "id": "b6926894-c9cb-4922-bd37-9f6d2129a64f",
   "metadata": {},
   "source": [
    "## Predictions"
   ]
  },
  {
   "cell_type": "code",
   "execution_count": 165,
   "id": "5137838f-0324-4566-8c92-f12990a4d786",
   "metadata": {},
   "outputs": [],
   "source": [
    "vectorizer = reviewDataset.getVectorizer()"
   ]
  },
  {
   "cell_type": "code",
   "execution_count": 166,
   "id": "d7fe0ad3-13d4-40e2-bc26-f012a59c0e43",
   "metadata": {},
   "outputs": [
    {
     "data": {
      "text/html": [
       "<div>\n",
       "<style scoped>\n",
       "    .dataframe tbody tr th:only-of-type {\n",
       "        vertical-align: middle;\n",
       "    }\n",
       "\n",
       "    .dataframe tbody tr th {\n",
       "        vertical-align: top;\n",
       "    }\n",
       "\n",
       "    .dataframe thead th {\n",
       "        text-align: right;\n",
       "    }\n",
       "</style>\n",
       "<table border=\"1\" class=\"dataframe\">\n",
       "  <thead>\n",
       "    <tr style=\"text-align: right;\">\n",
       "      <th></th>\n",
       "      <th>id</th>\n",
       "      <th>keyword</th>\n",
       "      <th>location</th>\n",
       "      <th>text</th>\n",
       "      <th>target</th>\n",
       "    </tr>\n",
       "  </thead>\n",
       "  <tbody>\n",
       "    <tr>\n",
       "      <th>0</th>\n",
       "      <td>0</td>\n",
       "      <td>NaN</td>\n",
       "      <td>NaN</td>\n",
       "      <td>just happened a terrible car crash</td>\n",
       "      <td>1</td>\n",
       "    </tr>\n",
       "    <tr>\n",
       "      <th>1</th>\n",
       "      <td>2</td>\n",
       "      <td>NaN</td>\n",
       "      <td>NaN</td>\n",
       "      <td>heard about earthquake is different cities sta...</td>\n",
       "      <td>1</td>\n",
       "    </tr>\n",
       "    <tr>\n",
       "      <th>2</th>\n",
       "      <td>3</td>\n",
       "      <td>NaN</td>\n",
       "      <td>NaN</td>\n",
       "      <td>there is a forest fire at spot pond geese are ...</td>\n",
       "      <td>1</td>\n",
       "    </tr>\n",
       "    <tr>\n",
       "      <th>3</th>\n",
       "      <td>9</td>\n",
       "      <td>NaN</td>\n",
       "      <td>NaN</td>\n",
       "      <td>apocalypse lighting spokane wildfires</td>\n",
       "      <td>1</td>\n",
       "    </tr>\n",
       "    <tr>\n",
       "      <th>4</th>\n",
       "      <td>11</td>\n",
       "      <td>NaN</td>\n",
       "      <td>NaN</td>\n",
       "      <td>typhoon soudelor kills in china and taiwan</td>\n",
       "      <td>1</td>\n",
       "    </tr>\n",
       "    <tr>\n",
       "      <th>...</th>\n",
       "      <td>...</td>\n",
       "      <td>...</td>\n",
       "      <td>...</td>\n",
       "      <td>...</td>\n",
       "      <td>...</td>\n",
       "    </tr>\n",
       "    <tr>\n",
       "      <th>3258</th>\n",
       "      <td>10861</td>\n",
       "      <td>NaN</td>\n",
       "      <td>NaN</td>\n",
       "      <td>earthquake safety los angeles ûò safety faste...</td>\n",
       "      <td>1</td>\n",
       "    </tr>\n",
       "    <tr>\n",
       "      <th>3259</th>\n",
       "      <td>10865</td>\n",
       "      <td>NaN</td>\n",
       "      <td>NaN</td>\n",
       "      <td>storm in ri worse than last hurricane my citya...</td>\n",
       "      <td>1</td>\n",
       "    </tr>\n",
       "    <tr>\n",
       "      <th>3260</th>\n",
       "      <td>10868</td>\n",
       "      <td>NaN</td>\n",
       "      <td>NaN</td>\n",
       "      <td>green line derailment in chicago httptcoutbxlc...</td>\n",
       "      <td>1</td>\n",
       "    </tr>\n",
       "    <tr>\n",
       "      <th>3261</th>\n",
       "      <td>10874</td>\n",
       "      <td>NaN</td>\n",
       "      <td>NaN</td>\n",
       "      <td>meg issues hazardous weather outlook hwo httpt...</td>\n",
       "      <td>1</td>\n",
       "    </tr>\n",
       "    <tr>\n",
       "      <th>3262</th>\n",
       "      <td>10875</td>\n",
       "      <td>NaN</td>\n",
       "      <td>NaN</td>\n",
       "      <td>cityofcalgary has activated its municipal emer...</td>\n",
       "      <td>0</td>\n",
       "    </tr>\n",
       "  </tbody>\n",
       "</table>\n",
       "<p>3263 rows × 5 columns</p>\n",
       "</div>"
      ],
      "text/plain": [
       "         id keyword location  \\\n",
       "0         0     NaN      NaN   \n",
       "1         2     NaN      NaN   \n",
       "2         3     NaN      NaN   \n",
       "3         9     NaN      NaN   \n",
       "4        11     NaN      NaN   \n",
       "...     ...     ...      ...   \n",
       "3258  10861     NaN      NaN   \n",
       "3259  10865     NaN      NaN   \n",
       "3260  10868     NaN      NaN   \n",
       "3261  10874     NaN      NaN   \n",
       "3262  10875     NaN      NaN   \n",
       "\n",
       "                                                   text  target  \n",
       "0                    just happened a terrible car crash       1  \n",
       "1     heard about earthquake is different cities sta...       1  \n",
       "2     there is a forest fire at spot pond geese are ...       1  \n",
       "3                 apocalypse lighting spokane wildfires       1  \n",
       "4            typhoon soudelor kills in china and taiwan       1  \n",
       "...                                                 ...     ...  \n",
       "3258  earthquake safety los angeles ûò safety faste...       1  \n",
       "3259  storm in ri worse than last hurricane my citya...       1  \n",
       "3260  green line derailment in chicago httptcoutbxlc...       1  \n",
       "3261  meg issues hazardous weather outlook hwo httpt...       1  \n",
       "3262  cityofcalgary has activated its municipal emer...       0  \n",
       "\n",
       "[3263 rows x 5 columns]"
      ]
     },
     "execution_count": 166,
     "metadata": {},
     "output_type": "execute_result"
    }
   ],
   "source": [
    "test_df"
   ]
  },
  {
   "cell_type": "code",
   "execution_count": 167,
   "id": "02421dad-6451-409e-ac41-0791e03a8bf2",
   "metadata": {},
   "outputs": [],
   "source": [
    "def predict_sentiment(review, classifier, vectorizer):\n",
    "    \"\"\"\n",
    "    Predicts sentiment of review\n",
    "    Args:\n",
    "        review (str): a review string \n",
    "        classifier : model to make predictions\n",
    "        vectorizer (Vectorizer): vectorizer to convert review string into a numerical representation\n",
    "    \n",
    "    returns:\n",
    "        probability of sentiment being negative\n",
    "    \"\"\"\n",
    "    X = vectorizer.vectorize(review)\n",
    "    X = torch.tensor(X).view(1,-1).float()\n",
    "    prediction = classifier(X)\n",
    "\n",
    "    return torch.sigmoid(prediction).item()"
   ]
  },
  {
   "cell_type": "code",
   "execution_count": 168,
   "id": "0b26f615-2056-4490-a7e3-85e9f184161d",
   "metadata": {},
   "outputs": [
    {
     "data": {
      "text/plain": [
       "0.975396990776062"
      ]
     },
     "execution_count": 168,
     "metadata": {},
     "output_type": "execute_result"
    }
   ],
   "source": [
    "predict_sentiment(test_df.iloc[4].text, classifier, vectorizer)"
   ]
  },
  {
   "cell_type": "code",
   "execution_count": 169,
   "id": "300aba7f-48c8-48ea-86d5-3f4bdd58ecc3",
   "metadata": {},
   "outputs": [],
   "source": [
    "test_df['target'] = test_df['text'].apply(predict_sentiment, args=(classifier, vectorizer))"
   ]
  },
  {
   "cell_type": "code",
   "execution_count": 170,
   "id": "d94b52a6-3b1e-48d0-b638-1babc9ab1104",
   "metadata": {},
   "outputs": [],
   "source": [
    "test_df['target'] = (test_df['target'] >= 0.5).astype(int)"
   ]
  },
  {
   "cell_type": "code",
   "execution_count": 171,
   "id": "7c164fb5-eb0f-4876-9346-0455b2dc4fd7",
   "metadata": {},
   "outputs": [
    {
     "data": {
      "text/html": [
       "<div>\n",
       "<style scoped>\n",
       "    .dataframe tbody tr th:only-of-type {\n",
       "        vertical-align: middle;\n",
       "    }\n",
       "\n",
       "    .dataframe tbody tr th {\n",
       "        vertical-align: top;\n",
       "    }\n",
       "\n",
       "    .dataframe thead th {\n",
       "        text-align: right;\n",
       "    }\n",
       "</style>\n",
       "<table border=\"1\" class=\"dataframe\">\n",
       "  <thead>\n",
       "    <tr style=\"text-align: right;\">\n",
       "      <th></th>\n",
       "      <th>id</th>\n",
       "      <th>keyword</th>\n",
       "      <th>location</th>\n",
       "      <th>text</th>\n",
       "      <th>target</th>\n",
       "    </tr>\n",
       "  </thead>\n",
       "  <tbody>\n",
       "    <tr>\n",
       "      <th>0</th>\n",
       "      <td>0</td>\n",
       "      <td>NaN</td>\n",
       "      <td>NaN</td>\n",
       "      <td>just happened a terrible car crash</td>\n",
       "      <td>1</td>\n",
       "    </tr>\n",
       "    <tr>\n",
       "      <th>1</th>\n",
       "      <td>2</td>\n",
       "      <td>NaN</td>\n",
       "      <td>NaN</td>\n",
       "      <td>heard about earthquake is different cities sta...</td>\n",
       "      <td>1</td>\n",
       "    </tr>\n",
       "    <tr>\n",
       "      <th>2</th>\n",
       "      <td>3</td>\n",
       "      <td>NaN</td>\n",
       "      <td>NaN</td>\n",
       "      <td>there is a forest fire at spot pond geese are ...</td>\n",
       "      <td>1</td>\n",
       "    </tr>\n",
       "    <tr>\n",
       "      <th>3</th>\n",
       "      <td>9</td>\n",
       "      <td>NaN</td>\n",
       "      <td>NaN</td>\n",
       "      <td>apocalypse lighting spokane wildfires</td>\n",
       "      <td>1</td>\n",
       "    </tr>\n",
       "    <tr>\n",
       "      <th>4</th>\n",
       "      <td>11</td>\n",
       "      <td>NaN</td>\n",
       "      <td>NaN</td>\n",
       "      <td>typhoon soudelor kills in china and taiwan</td>\n",
       "      <td>1</td>\n",
       "    </tr>\n",
       "    <tr>\n",
       "      <th>...</th>\n",
       "      <td>...</td>\n",
       "      <td>...</td>\n",
       "      <td>...</td>\n",
       "      <td>...</td>\n",
       "      <td>...</td>\n",
       "    </tr>\n",
       "    <tr>\n",
       "      <th>3258</th>\n",
       "      <td>10861</td>\n",
       "      <td>NaN</td>\n",
       "      <td>NaN</td>\n",
       "      <td>earthquake safety los angeles ûò safety faste...</td>\n",
       "      <td>1</td>\n",
       "    </tr>\n",
       "    <tr>\n",
       "      <th>3259</th>\n",
       "      <td>10865</td>\n",
       "      <td>NaN</td>\n",
       "      <td>NaN</td>\n",
       "      <td>storm in ri worse than last hurricane my citya...</td>\n",
       "      <td>1</td>\n",
       "    </tr>\n",
       "    <tr>\n",
       "      <th>3260</th>\n",
       "      <td>10868</td>\n",
       "      <td>NaN</td>\n",
       "      <td>NaN</td>\n",
       "      <td>green line derailment in chicago httptcoutbxlc...</td>\n",
       "      <td>1</td>\n",
       "    </tr>\n",
       "    <tr>\n",
       "      <th>3261</th>\n",
       "      <td>10874</td>\n",
       "      <td>NaN</td>\n",
       "      <td>NaN</td>\n",
       "      <td>meg issues hazardous weather outlook hwo httpt...</td>\n",
       "      <td>1</td>\n",
       "    </tr>\n",
       "    <tr>\n",
       "      <th>3262</th>\n",
       "      <td>10875</td>\n",
       "      <td>NaN</td>\n",
       "      <td>NaN</td>\n",
       "      <td>cityofcalgary has activated its municipal emer...</td>\n",
       "      <td>0</td>\n",
       "    </tr>\n",
       "  </tbody>\n",
       "</table>\n",
       "<p>3263 rows × 5 columns</p>\n",
       "</div>"
      ],
      "text/plain": [
       "         id keyword location  \\\n",
       "0         0     NaN      NaN   \n",
       "1         2     NaN      NaN   \n",
       "2         3     NaN      NaN   \n",
       "3         9     NaN      NaN   \n",
       "4        11     NaN      NaN   \n",
       "...     ...     ...      ...   \n",
       "3258  10861     NaN      NaN   \n",
       "3259  10865     NaN      NaN   \n",
       "3260  10868     NaN      NaN   \n",
       "3261  10874     NaN      NaN   \n",
       "3262  10875     NaN      NaN   \n",
       "\n",
       "                                                   text  target  \n",
       "0                    just happened a terrible car crash       1  \n",
       "1     heard about earthquake is different cities sta...       1  \n",
       "2     there is a forest fire at spot pond geese are ...       1  \n",
       "3                 apocalypse lighting spokane wildfires       1  \n",
       "4            typhoon soudelor kills in china and taiwan       1  \n",
       "...                                                 ...     ...  \n",
       "3258  earthquake safety los angeles ûò safety faste...       1  \n",
       "3259  storm in ri worse than last hurricane my citya...       1  \n",
       "3260  green line derailment in chicago httptcoutbxlc...       1  \n",
       "3261  meg issues hazardous weather outlook hwo httpt...       1  \n",
       "3262  cityofcalgary has activated its municipal emer...       0  \n",
       "\n",
       "[3263 rows x 5 columns]"
      ]
     },
     "execution_count": 171,
     "metadata": {},
     "output_type": "execute_result"
    }
   ],
   "source": [
    "test_df"
   ]
  },
  {
   "cell_type": "code",
   "execution_count": 177,
   "id": "b841d8fa-5e3b-4863-a5d3-4242593e5561",
   "metadata": {},
   "outputs": [],
   "source": [
    "test_df.to_csv('data/submission2.csv', columns=['id', 'target'], index=False)"
   ]
  },
  {
   "cell_type": "markdown",
   "id": "6420a969-e049-425f-a76c-205ff7324003",
   "metadata": {},
   "source": [
    "## Tests"
   ]
  },
  {
   "cell_type": "code",
   "execution_count": 31,
   "id": "3e07619b-7c53-4230-8a40-b16be94541c4",
   "metadata": {},
   "outputs": [],
   "source": [
    "myDataset = CustomDataset.fromDataframe(X_train, X_val, cutoff=10)"
   ]
  },
  {
   "cell_type": "code",
   "execution_count": 174,
   "id": "e665f695-026c-45c0-b236-28f9f8ba288a",
   "metadata": {},
   "outputs": [],
   "source": [
    "probs = X_val.text.apply(predict_sentiment, args=(classifier, vectorizer))"
   ]
  },
  {
   "cell_type": "code",
   "execution_count": 175,
   "id": "302e9617-7b0c-44d4-9944-4757e0009373",
   "metadata": {},
   "outputs": [],
   "source": [
    "accs = []\n",
    "truth = X_val.target.values\n",
    "for thresh in [0.3, 0.35, 0.4, 0.45, 0.5, 0.55, 0.6, 0.65, 0.7, 0.75]:\n",
    "    preds = (probs >= thresh).astype(int)\n",
    "    accs.append(np.sum(preds==truth)/len(truth))"
   ]
  },
  {
   "cell_type": "code",
   "execution_count": 176,
   "id": "6c187207-2be0-42bf-948a-d5e45a74b7d6",
   "metadata": {},
   "outputs": [
    {
     "data": {
      "text/plain": [
       "[0.7314510833880499,\n",
       " 0.7524622455679579,\n",
       " 0.7734734077478661,\n",
       " 0.7826657912015759,\n",
       " 0.8010505581089954,\n",
       " 0.8108995403808273,\n",
       " 0.8115561391989494,\n",
       " 0.8095863427445831,\n",
       " 0.7964543663821405,\n",
       " 0.7806959947472094]"
      ]
     },
     "execution_count": 176,
     "metadata": {},
     "output_type": "execute_result"
    }
   ],
   "source": [
    "accs"
   ]
  },
  {
   "cell_type": "code",
   "execution_count": 114,
   "id": "0e5e1ccf-64c0-4e35-aa02-3a183e2d3216",
   "metadata": {},
   "outputs": [
    {
     "data": {
      "text/plain": [
       "target\n",
       "0    0.570279\n",
       "1    0.429721\n",
       "Name: proportion, dtype: float64"
      ]
     },
     "execution_count": 114,
     "metadata": {},
     "output_type": "execute_result"
    }
   ],
   "source": [
    "X_train.target.value_counts(normalize=True)"
   ]
  },
  {
   "cell_type": "code",
   "execution_count": 55,
   "id": "35e3c4b8-e32b-424b-9e62-859e7f0ef639",
   "metadata": {},
   "outputs": [
    {
     "data": {
      "text/plain": [
       "843"
      ]
     },
     "execution_count": 55,
     "metadata": {},
     "output_type": "execute_result"
    }
   ],
   "source": [
    "len(myDataset.getVocabulary())"
   ]
  },
  {
   "cell_type": "code",
   "execution_count": 75,
   "id": "a2299ff9-d7d0-47f6-b9d8-29a011737be6",
   "metadata": {},
   "outputs": [],
   "source": [
    "myDataset.set_split(\"train\")"
   ]
  },
  {
   "cell_type": "code",
   "execution_count": 77,
   "id": "06492f90-379d-4a2b-a0fe-ded01068c95f",
   "metadata": {},
   "outputs": [],
   "source": [
    "myloader = DataLoader(myDataset, batch_size=32, shuffle=True)"
   ]
  },
  {
   "cell_type": "code",
   "execution_count": 78,
   "id": "54b95c1a-b86d-409b-bb9c-ad1e31c65dc0",
   "metadata": {},
   "outputs": [],
   "source": [
    "mybatch = next(iter(myloader))"
   ]
  },
  {
   "cell_type": "code",
   "execution_count": 82,
   "id": "1021d5ad-dc3f-4374-9d97-d2f63a8e1e7e",
   "metadata": {},
   "outputs": [
    {
     "data": {
      "text/plain": [
       "torch.Size([32, 1, 843])"
      ]
     },
     "execution_count": 82,
     "metadata": {},
     "output_type": "execute_result"
    }
   ],
   "source": [
    "mybatch[0].shape"
   ]
  },
  {
   "cell_type": "code",
   "execution_count": 5,
   "id": "b81434ea-8f82-4e69-9264-8775e8b39a78",
   "metadata": {},
   "outputs": [],
   "source": [
    "from sklearn.feature_extraction.text import TfidfVectorizer, CountVectorizer"
   ]
  },
  {
   "cell_type": "code",
   "execution_count": 10,
   "id": "39501f19-9f0f-43db-9505-bf4af1021661",
   "metadata": {},
   "outputs": [],
   "source": [
    "vocabulary = [\"hello\", \"world\", \"unk\"]\n",
    "\n",
    "def my_tokenizer(text):\n",
    "    tokens = text.split(\" \")\n",
    "    tokens = [token if token in vocabulary else \"unk\" for token in tokens]\n",
    "    return tokens"
   ]
  },
  {
   "cell_type": "code",
   "execution_count": 24,
   "id": "0838ee9b-f498-4586-8ca5-e41c9ba637d8",
   "metadata": {},
   "outputs": [],
   "source": [
    "tfidf = TfidfVectorizer(tokenizer=my_tokenizer, vocabulary=vocabulary, token_pattern=None)"
   ]
  },
  {
   "cell_type": "code",
   "execution_count": 28,
   "id": "7a32c05a-f989-4c6b-a0e5-e0438a784dcc",
   "metadata": {},
   "outputs": [],
   "source": [
    "X = tfidf.fit_transform([\"hello world daddy\", \"hello my little pony\", \"hehe gimme a kiss\"])"
   ]
  },
  {
   "cell_type": "code",
   "execution_count": 29,
   "id": "226c54bf-fe74-4570-bc11-0dae1e9930c1",
   "metadata": {},
   "outputs": [
    {
     "data": {
      "text/plain": [
       "{'hello': 0, 'world': 1, 'unk': 2}"
      ]
     },
     "execution_count": 29,
     "metadata": {},
     "output_type": "execute_result"
    }
   ],
   "source": [
    "tfidf.vocabulary_"
   ]
  },
  {
   "cell_type": "code",
   "execution_count": 30,
   "id": "70de2cc0-2874-487e-8df0-7ffd7bb508e6",
   "metadata": {},
   "outputs": [
    {
     "data": {
      "text/plain": [
       "array([[0.54783215, 0.72033345, 0.42544054],\n",
       "       [0.39442846, 0.        , 0.91892665],\n",
       "       [0.        , 0.        , 1.        ]])"
      ]
     },
     "execution_count": 30,
     "metadata": {},
     "output_type": "execute_result"
    }
   ],
   "source": [
    "X.toarray()"
   ]
  },
  {
   "cell_type": "code",
   "execution_count": 48,
   "id": "7837c32c-6421-4ef6-aa3b-570dc6e7db3e",
   "metadata": {},
   "outputs": [],
   "source": [
    "counts = Counter([word for text in df.text for word in text.split(\" \")])"
   ]
  },
  {
   "cell_type": "code",
   "execution_count": 49,
   "id": "f28859a9-02f9-478f-8379-7bc0f23cb0dc",
   "metadata": {},
   "outputs": [],
   "source": [
    "import matplotlib.pyplot as plt"
   ]
  },
  {
   "cell_type": "code",
   "execution_count": 55,
   "id": "835bb742-fff0-426f-837e-ca71c19c2eea",
   "metadata": {},
   "outputs": [
    {
     "data": {
      "text/plain": [
       "(array([0.0000e+00, 2.3425e+04, 3.3000e+03, 1.4420e+03, 8.2800e+02,\n",
       "        5.0700e+02, 3.4900e+02, 2.5900e+02, 2.0500e+02, 1.5900e+02,\n",
       "        1.4700e+02, 1.1000e+02, 1.0400e+02, 8.8000e+01, 7.7000e+01,\n",
       "        6.4000e+01, 7.0000e+01, 6.7000e+01, 5.7000e+01, 4.7000e+01,\n",
       "        3.4000e+01, 3.5000e+01, 3.1000e+01, 3.5000e+01, 4.1000e+01,\n",
       "        3.7000e+01, 2.0000e+01, 2.9000e+01, 2.6000e+01, 1.9000e+01,\n",
       "        2.7000e+01, 1.8000e+01, 1.7000e+01, 1.6000e+01, 7.0000e+00,\n",
       "        1.0000e+01, 1.7000e+01, 1.5000e+01, 8.0000e+00, 1.0000e+01,\n",
       "        7.0000e+00, 5.0000e+00, 9.0000e+00, 7.0000e+00, 6.0000e+00,\n",
       "        2.0000e+00, 4.0000e+00, 4.0000e+00, 7.0000e+00, 2.0000e+00,\n",
       "        7.0000e+00, 2.0000e+00, 5.0000e+00, 2.0000e+00, 4.0000e+00,\n",
       "        1.1000e+01, 9.0000e+00, 3.0000e+00, 4.0000e+00, 3.0000e+00,\n",
       "        4.0000e+00, 5.0000e+00, 3.0000e+00, 2.0000e+00, 2.0000e+00,\n",
       "        2.0000e+00, 3.0000e+00, 2.0000e+00, 1.0000e+00, 5.0000e+00,\n",
       "        4.0000e+00, 3.0000e+00, 3.0000e+00, 2.0000e+00, 3.0000e+00,\n",
       "        0.0000e+00, 1.0000e+00, 1.0000e+00, 1.0000e+00, 2.0000e+00,\n",
       "        2.0000e+00, 2.0000e+00, 1.0000e+00, 0.0000e+00, 0.0000e+00,\n",
       "        3.0000e+00, 1.0000e+00, 1.0000e+00, 2.0000e+00, 2.0000e+00,\n",
       "        0.0000e+00, 2.0000e+00, 1.0000e+00, 2.0000e+00, 0.0000e+00,\n",
       "        3.0000e+00, 0.0000e+00, 0.0000e+00, 2.0000e+00, 1.0000e+00]),\n",
       " array([  0.,   1.,   2.,   3.,   4.,   5.,   6.,   7.,   8.,   9.,  10.,\n",
       "         11.,  12.,  13.,  14.,  15.,  16.,  17.,  18.,  19.,  20.,  21.,\n",
       "         22.,  23.,  24.,  25.,  26.,  27.,  28.,  29.,  30.,  31.,  32.,\n",
       "         33.,  34.,  35.,  36.,  37.,  38.,  39.,  40.,  41.,  42.,  43.,\n",
       "         44.,  45.,  46.,  47.,  48.,  49.,  50.,  51.,  52.,  53.,  54.,\n",
       "         55.,  56.,  57.,  58.,  59.,  60.,  61.,  62.,  63.,  64.,  65.,\n",
       "         66.,  67.,  68.,  69.,  70.,  71.,  72.,  73.,  74.,  75.,  76.,\n",
       "         77.,  78.,  79.,  80.,  81.,  82.,  83.,  84.,  85.,  86.,  87.,\n",
       "         88.,  89.,  90.,  91.,  92.,  93.,  94.,  95.,  96.,  97.,  98.,\n",
       "         99., 100.]),\n",
       " <BarContainer object of 100 artists>)"
      ]
     },
     "execution_count": 55,
     "metadata": {},
     "output_type": "execute_result"
    },
    {
     "data": {
      "image/png": "[encoded data removed]",
      "text/plain": [
       "<Figure size 432x288 with 1 Axes>"
      ]
     },
     "metadata": {
      "needs_background": "light"
     },
     "output_type": "display_data"
    }
   ],
   "source": [
    "plt.hist(list(counts.values()), range=(0,100), bins=100)"
   ]
  },
  {
   "cell_type": "code",
   "execution_count": 83,
   "id": "cf0d6fc6-c4c9-4b81-93a1-9c885c6f13f2",
   "metadata": {},
   "outputs": [
    {
     "data": {
      "text/plain": [
       "(3,)"
      ]
     },
     "execution_count": 83,
     "metadata": {},
     "output_type": "execute_result"
    }
   ],
   "source": [
    "np.array([1,2,3]).shape"
   ]
  },
  {
   "cell_type": "code",
   "execution_count": 86,
   "id": "972547df-bb74-46e0-9363-7e35501f987f",
   "metadata": {},
   "outputs": [
    {
     "data": {
      "text/plain": [
       "(10,)"
      ]
     },
     "execution_count": 86,
     "metadata": {},
     "output_type": "execute_result"
    }
   ],
   "source": [
    "np.zeros(10).shape"
   ]
  },
  {
   "cell_type": "code",
   "execution_count": null,
   "id": "2bfbc247-1725-4d7a-bcb0-21683dc51c88",
   "metadata": {},
   "outputs": [],
   "source": [
    " "
   ]
  }
 ],
 "metadata": {
  "kernelspec": {
   "display_name": "Python 3",
   "language": "python",
   "name": "python3"
  },
  "language_info": {
   "codemirror_mode": {
    "name": "ipython",
    "version": 3
   },
   "file_extension": ".py",
   "mimetype": "text/x-python",
   "name": "python",
   "nbconvert_exporter": "python",
   "pygments_lexer": "ipython3",
   "version": "3.9.18"
  }
 },
 "nbformat": 4,
 "nbformat_minor": 5
}
